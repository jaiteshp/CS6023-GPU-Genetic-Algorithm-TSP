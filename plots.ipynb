{
 "cells": [
  {
   "cell_type": "code",
   "execution_count": 6,
   "metadata": {},
   "outputs": [],
   "source": [
    "import os\n",
    "import subprocess\n",
    "import matplotlib.pyplot as plt"
   ]
  },
  {
   "cell_type": "code",
   "execution_count": 7,
   "metadata": {},
   "outputs": [],
   "source": [
    "gpu = 'ga_gpu_output.txt'\n",
    "cpu = 'ga_cpu_output.txt'\n",
    "tsp_dir = os.getcwd() + os.sep + 'TSPLIB'"
   ]
  },
  {
   "cell_type": "code",
   "execution_count": 8,
   "metadata": {},
   "outputs": [],
   "source": [
    "tsp_files_list = os.listdir(tsp_dir)"
   ]
  },
  {
   "cell_type": "code",
   "execution_count": 19,
   "metadata": {},
   "outputs": [],
   "source": [
    "def execGA(device = 'gpu', filename = 'gr17.tsp', p = 50, g = 50, m = 10):\n",
    "    extraArgs = ['p', str(p), 'g', str(g), 'm', str(m)]\n",
    "    if(device == 'gpu'):\n",
    "        return subprocess.run([\"./ga_gpu\", filename] + extraArgs, capture_output=True)\n",
    "    else:\n",
    "        return subprocess.run([\"./ga_cpu\", filename] + extraArgs, capture_output=True)"
   ]
  },
  {
   "cell_type": "code",
   "execution_count": 10,
   "metadata": {},
   "outputs": [],
   "source": [
    "def parseOutputFile(filename):\n",
    "    fo = open(filename, 'r')\n",
    "    lines = fo.readlines()\n",
    "    num_gen = int(lines[0])\n",
    "    res = {}\n",
    "    res['g'] = num_gen\n",
    "    solutions = []\n",
    "    for i in range(num_gen):\n",
    "        solutions.append(float(lines[i+1]))\n",
    "    res['solns'] = solutions\n",
    "    conv = int(lines[num_gen+1])\n",
    "    res['converged'] = conv\n",
    "    time = float(lines[num_gen+2])\n",
    "    res['time'] = time\n",
    "    return res"
   ]
  },
  {
   "cell_type": "code",
   "execution_count": 12,
   "metadata": {},
   "outputs": [],
   "source": [
    "def plotExecTime():\n",
    "    "
   ]
  },
  {
   "cell_type": "code",
   "execution_count": 15,
   "metadata": {},
   "outputs": [
    {
     "name": "stdout",
     "output_type": "stream",
     "text": [
      "['ulysses16.tsp', 'att532.tsp', 'pr226.tsp', 'kroA200.tsp', 'u1060.tsp', 'rd100.tsp', 'pla7397.tsp', 'dsj1000.tsp', 'd493.tsp', 'd2103.tsp', 'ts225.tsp', 'pr144.tsp', 'p654.tsp', 'pr152.tsp', 'd15112.tsp', 'swiss42.tsp', 'pla33810.tsp', 'brg180.tsp', 'eil51.tsp', 'lin318.tsp', 'u724.tsp', 'gr120.tsp', 'rat99.tsp', 'xray.problems', 'pr299.tsp', 'si1032.tsp', 'brd14051.tsp', 'd18512.tsp', 'gr96.tsp', 'kroC100.tsp', 'gr48.tsp', 'kroA100.tsp', 'pa561.tsp', 'dantzig42.tsp', 'fl3795.tsp', 'kroB200.tsp', 'fnl4461.tsp', 'gr24.tsp', 'rat195.tsp', 'solutions', 'kroB100.tsp', 'a280.tsp', 'vm1084.tsp', 'gr666.tsp', 'pr2392.tsp', 'brazil58.tsp', 'gr431.tsp', 'gil262.tsp', 'bayg29.tsp', 'rat575.tsp', 'lin105.tsp', 'rl1304.tsp', 'pr136.tsp', 'rl1889.tsp', 'fl1577.tsp', 'bier127.tsp', 'u159.tsp', 'rat783.tsp', 'rl5934.tsp', 'kroD100.tsp', 'fl1400.tsp', 'u1817.tsp', 'kroE100.tsp', 'nrw1379.tsp', 'u2319.tsp', 'pcb1173.tsp', 'pr76.tsp', 'd1655.tsp', 'vm1748.tsp', 'README.md', 'ch130.tsp', 'd198.tsp', 'ali535.tsp', 'burma14.tsp', 'pla85900.tsp', 'rl5915.tsp', 'fl417.tsp', 'berlin52.tsp', 'gr17.tsp', 'u574.tsp', 'ulysses22.tsp', 'hk48.tsp', 'si535.tsp', 'u2152.tsp', 'fri26.tsp', 'd657.tsp', 'linhp318.tsp', 'usa13509.tsp', 'st70.tsp', 'rl11849.tsp', 'ch150.tsp', 'pr264.tsp', 'gr137.tsp', 'pr107.tsp', 'd1291.tsp', 'pr1002.tsp', 'att48.tsp', 'gr229.tsp', 'pr124.tsp', 'kroB150.tsp', 'gr202.tsp', 'si175.tsp', 'u1432.tsp', 'tsp225.tsp', 'kroA150.tsp', 'eil101.tsp', 'pcb3038.tsp', 'rd400.tsp', 'bays29.tsp', 'rl1323.tsp', 'pcb442.tsp', 'pr439.tsp', 'eil76.tsp', 'gr21.tsp']\n"
     ]
    }
   ],
   "source": [
    "plotExecTime()"
   ]
  },
  {
   "cell_type": "code",
   "execution_count": 20,
   "metadata": {},
   "outputs": [
    {
     "data": {
      "text/plain": [
       "CompletedProcess(args=['./ga_gpu', 'gr17.tsp', 'p', '50', 'g', '50', 'm', '10'], returncode=0, stdout=b'-------------- 0 --------------\\nSolution: 2950.000000\\n-------------- 1 --------------\\nSolution: 2557.000000\\n-------------- 2 --------------\\nSolution: 2443.000000\\n-------------- 3 --------------\\nSolution: 2333.000000\\n-------------- 4 --------------\\nSolution: 2265.000000\\n-------------- 5 --------------\\nSolution: 2229.000000\\n-------------- 6 --------------\\nSolution: 2218.000000\\n-------------- 7 --------------\\nSolution: 2209.000000\\n-------------- 8 --------------\\nSolution: 2196.000000\\n-------------- 9 --------------\\nSolution: 2180.000000\\n-------------- 10 --------------\\nSolution: 2179.000000\\n-------------- 11 --------------\\nSolution: 2176.000000\\n-------------- 12 --------------\\nSolution: 2167.000000\\n-------------- 13 --------------\\nSolution: 2167.000000\\n-------------- 14 --------------\\nSolution: 2167.000000\\n-------------- 15 --------------\\nSolution: 2167.000000\\n-------------- 16 --------------\\nSolution: 2167.000000\\n-------------- 17 --------------\\nSolution: 2167.000000\\n-------------- 18 --------------\\nSolution: 2167.000000\\n-------------- 19 --------------\\nSolution: 2167.000000\\n-------------- 20 --------------\\nSolution: 2167.000000\\n-------------- 21 --------------\\nSolution: 2167.000000\\n-------------- 22 --------------\\nSolution: 2167.000000\\n-------------- 23 --------------\\nSolution: 2167.000000\\n-------------- 24 --------------\\nSolution: 2167.000000\\n-------------- 25 --------------\\nSolution: 2167.000000\\n-------------- 26 --------------\\nSolution: 2167.000000\\n-------------- 27 --------------\\nSolution: 2167.000000\\n-------------- 28 --------------\\nSolution: 2167.000000\\n-------------- 29 --------------\\nSolution: 2167.000000\\n-------------- 30 --------------\\nSolution: 2167.000000\\n-------------- 31 --------------\\nSolution: 2167.000000\\n\\nGA converged in 32th generation with best Solution: 2167\\n\\nExecution time (GPU): 0.0168969 seconds\\n\\nNumber of cities: \\t17\\nPopulation size: \\t50\\nNumber of mutations: \\t10\\nMax no of generations: \\t50\\n', stderr=b'')"
      ]
     },
     "execution_count": 20,
     "metadata": {},
     "output_type": "execute_result"
    }
   ],
   "source": [
    "execGA()"
   ]
  }
 ],
 "metadata": {
  "kernelspec": {
   "display_name": "Python 3",
   "language": "python",
   "name": "python3"
  },
  "language_info": {
   "codemirror_mode": {
    "name": "ipython",
    "version": 3
   },
   "file_extension": ".py",
   "mimetype": "text/x-python",
   "name": "python",
   "nbconvert_exporter": "python",
   "pygments_lexer": "ipython3",
   "version": "3.8.5"
  },
  "metadata": {
   "interpreter": {
    "hash": "31f2aee4e71d21fbe5cf8b01ff0e069b9275f58929596ceb00d14d90e3e16cd6"
   }
  }
 },
 "nbformat": 4,
 "nbformat_minor": 4
}

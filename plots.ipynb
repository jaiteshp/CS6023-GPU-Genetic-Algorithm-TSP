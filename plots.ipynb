{
 "cells": [
  {
   "cell_type": "code",
   "execution_count": 7,
   "metadata": {},
   "outputs": [],
   "source": [
    "import os\n",
    "import subprocess"
   ]
  },
  {
   "cell_type": "code",
   "execution_count": 8,
   "metadata": {},
   "outputs": [],
   "source": [
    "gpu = 'ga_gpu_output.txt'\n",
    "cpu = 'ga_cpu_output.txt'\n",
    "tsp_dir = os.getcwd() + os.sep + 'TSPLIB'"
   ]
  },
  {
   "cell_type": "code",
   "execution_count": 9,
   "metadata": {},
   "outputs": [],
   "source": [
    "tsp_files_list = os.listdir(tsp_dir)"
   ]
  },
  {
   "cell_type": "code",
   "execution_count": 10,
   "metadata": {},
   "outputs": [],
   "source": [
    "def execGA(device, filename):\n",
    "    if(device == 'gpu'):\n",
    "        return subprocess.run([\"./ga_gpu\", filename], capture_output=True)\n",
    "    else:\n",
    "        return subprocess.run([\"./ga_cpu\", filename], capture_output=True)"
   ]
  },
  {
   "cell_type": "code",
   "execution_count": 11,
   "metadata": {},
   "outputs": [],
   "source": [
    "def parseOutputFile(filename):\n",
    "    fo = open(filename, 'r')\n",
    "    lines = fo.readlines()\n",
    "    num_gen = int(lines[0])\n",
    "    res = {}\n",
    "    res['g'] = num_gen\n",
    "    solutions = []\n",
    "    for i in range(num_gen):\n",
    "        solutions.append(float(lines[i+1]))\n",
    "    res['solns'] = solutions\n",
    "    conv = int(lines[num_gen+1])\n",
    "    res['converged'] = conv\n",
    "    time = float(lines[num_gen+2])\n",
    "    res['time'] = time\n",
    "    return res"
   ]
  },
  {
   "cell_type": "code",
   "execution_count": null,
   "metadata": {},
   "outputs": [],
   "source": []
  }
 ],
 "metadata": {
  "kernelspec": {
   "display_name": "Python 3.8.5 64-bit",
   "language": "python",
   "name": "python385jvsc74a57bd031f2aee4e71d21fbe5cf8b01ff0e069b9275f58929596ceb00d14d90e3e16cd6"
  },
  "language_info": {
   "codemirror_mode": {
    "name": "ipython",
    "version": 3
   },
   "file_extension": ".py",
   "mimetype": "text/x-python",
   "name": "python",
   "nbconvert_exporter": "python",
   "pygments_lexer": "ipython3",
   "version": "3.8.5"
  },
  "metadata": {
   "interpreter": {
    "hash": "31f2aee4e71d21fbe5cf8b01ff0e069b9275f58929596ceb00d14d90e3e16cd6"
   }
  }
 },
 "nbformat": 4,
 "nbformat_minor": 4
}

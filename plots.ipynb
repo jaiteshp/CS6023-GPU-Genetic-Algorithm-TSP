{
 "cells": [
  {
   "cell_type": "code",
   "execution_count": 59,
   "metadata": {},
   "outputs": [],
   "source": [
    "import os\n",
    "import subprocess"
   ]
  },
  {
   "cell_type": "code",
   "execution_count": 93,
   "metadata": {},
   "outputs": [],
   "source": [
    "gpu = 'ga_gpu_output.txt'\n",
    "cpu = 'ga_cpu_output.txt'\n",
    "tsp_dir = os.getcwd() + os.sep + 'TSPLIB'"
   ]
  },
  {
   "cell_type": "code",
   "execution_count": 98,
   "metadata": {},
   "outputs": [],
   "source": [
    "tsp_files_list = os.listdir(tsp_dir)"
   ]
  },
  {
   "cell_type": "code",
   "execution_count": 56,
   "metadata": {},
   "outputs": [],
   "source": [
    "def execGA(device, filename):\n",
    "    if(device == 'gpu'):\n",
    "        return subprocess.run()\n",
    "    elif(device == 'cpu'):\n",
    "    #running make GA_gpu\n",
    "    compProc = subprocess.run([\"./ga_gpu\", filename], capture_output=True)\n",
    "#     print(compProc)\n",
    "    return compProc\n",
    "    \n",
    "    #running GA_gpu\n",
    "#     process = subprocess.Popen(\"\")"
   ]
  },
  {
   "cell_type": "code",
   "execution_count": 57,
   "metadata": {},
   "outputs": [],
   "source": [
    "compProc = callGpuCode(\"gr17.tsp\")"
   ]
  },
  {
   "cell_type": "code",
   "execution_count": 58,
   "metadata": {
    "collapsed": true
   },
   "outputs": [
    {
     "name": "stdout",
     "output_type": "stream",
     "text": [
      "-------------- 0 --------------\n",
      "Solution: 2245.000000\n",
      "-------------- 1 --------------\n",
      "Solution: 2090.000000\n",
      "-------------- 2 --------------\n",
      "Solution: 2090.000000\n",
      "-------------- 3 --------------\n",
      "Solution: 2090.000000\n",
      "-------------- 4 --------------\n",
      "Solution: 2090.000000\n",
      "-------------- 5 --------------\n",
      "Solution: 2090.000000\n",
      "-------------- 6 --------------\n",
      "Solution: 2090.000000\n",
      "-------------- 7 --------------\n",
      "Solution: 2090.000000\n",
      "-------------- 8 --------------\n",
      "Solution: 2090.000000\n",
      "-------------- 9 --------------\n",
      "Solution: 2090.000000\n",
      "-------------- 10 --------------\n",
      "Solution: 2090.000000\n",
      "\n",
      "GA converged in 11th generation with best Solution: 2090\n",
      "\n",
      "Execution time (GPU): 1.80271 seconds\n",
      "\n",
      "Number of cities: \t17\n",
      "Population size: \t10000\n",
      "Number of mutations: \t50\n",
      "Max no of generations: \t10000\n",
      "\n",
      "654\n",
      "1.80271 seconds\n",
      "\n",
      "Number of cities: \t17\n",
      "Population size: \t10000\n",
      "Number of mutations: \t50\n",
      "Max no of generations: \t10000\n",
      "\n"
     ]
    }
   ],
   "source": [
    "output = (compProcMake.stdout).decode(\"utf-8\")\n",
    "print(output)\n",
    "idx = output.find(\"Execution time (GPU): \")\n",
    "print(idx)\n",
    "print(output[idx+22::])"
   ]
  },
  {
   "cell_type": "code",
   "execution_count": 81,
   "metadata": {},
   "outputs": [],
   "source": [
    "def parseOutputFile(filename):\n",
    "    fo = open(filename, 'r')\n",
    "    lines = fo.readlines()\n",
    "    num_gen = int(lines[0])\n",
    "    res = {}\n",
    "    res['g'] = num_gen\n",
    "    solutions = []\n",
    "    for i in range(num_gen):\n",
    "        solutions.append(float(lines[i+1]))\n",
    "    res['solns'] = solutions\n",
    "    conv = int(lines[num_gen+1])\n",
    "    res['converged'] = conv\n",
    "    time = float(lines[num_gen+2])\n",
    "    res['time'] = time\n",
    "    return res"
   ]
  },
  {
   "cell_type": "code",
   "execution_count": 82,
   "metadata": {},
   "outputs": [
    {
     "data": {
      "text/plain": [
       "{'g': 7,\n",
       " 'solns': [2293.0, 2090.0, 2085.0, 2085.0, 2085.0, 2085.0, 2085.0],\n",
       " 'converged': 1,\n",
       " 'time': 1.1882}"
      ]
     },
     "execution_count": 82,
     "metadata": {},
     "output_type": "execute_result"
    }
   ],
   "source": [
    "parseOutputFile(gpu)"
   ]
  },
  {
   "cell_type": "code",
   "execution_count": 95,
   "metadata": {},
   "outputs": [
    {
     "name": "stdout",
     "output_type": "stream",
     "text": [
      "['ulysses16.tsp', 'att532.tsp', 'pr226.tsp', 'kroA200.tsp', 'u1060.tsp', 'rd100.tsp', 'pla7397.tsp', 'dsj1000.tsp', 'd493.tsp', 'd2103.tsp', 'ts225.tsp', 'pr144.tsp', 'p654.tsp', 'pr152.tsp', 'd15112.tsp', 'swiss42.tsp', 'pla33810.tsp', 'brg180.tsp', 'eil51.tsp', 'lin318.tsp', 'u724.tsp', 'gr120.tsp', 'rat99.tsp', 'xray.problems', 'pr299.tsp', 'si1032.tsp', 'brd14051.tsp', 'd18512.tsp', 'gr96.tsp', 'kroC100.tsp', 'gr48.tsp', 'kroA100.tsp', 'pa561.tsp', 'dantzig42.tsp', 'fl3795.tsp', 'kroB200.tsp', 'fnl4461.tsp', 'gr24.tsp', 'rat195.tsp', 'solutions', 'kroB100.tsp', 'a280.tsp', 'vm1084.tsp', 'gr666.tsp', 'pr2392.tsp', 'brazil58.tsp', 'gr431.tsp', 'gil262.tsp', 'bayg29.tsp', 'rat575.tsp', 'lin105.tsp', 'rl1304.tsp', 'pr136.tsp', 'rl1889.tsp', 'fl1577.tsp', 'bier127.tsp', 'u159.tsp', 'rat783.tsp', 'rl5934.tsp', 'kroD100.tsp', 'fl1400.tsp', 'u1817.tsp', 'kroE100.tsp', 'nrw1379.tsp', 'u2319.tsp', 'pcb1173.tsp', 'pr76.tsp', 'd1655.tsp', 'vm1748.tsp', 'README.md', 'ch130.tsp', 'd198.tsp', 'ali535.tsp', 'burma14.tsp', 'pla85900.tsp', 'rl5915.tsp', 'fl417.tsp', 'berlin52.tsp', 'gr17.tsp', 'u574.tsp', 'ulysses22.tsp', 'hk48.tsp', 'si535.tsp', 'u2152.tsp', 'fri26.tsp', 'd657.tsp', 'linhp318.tsp', 'usa13509.tsp', 'st70.tsp', 'rl11849.tsp', 'ch150.tsp', 'pr264.tsp', 'gr137.tsp', 'pr107.tsp', 'd1291.tsp', 'pr1002.tsp', 'att48.tsp', 'gr229.tsp', 'pr124.tsp', 'kroB150.tsp', 'gr202.tsp', 'si175.tsp', 'u1432.tsp', 'tsp225.tsp', 'kroA150.tsp', 'eil101.tsp', 'pcb3038.tsp', 'rd400.tsp', 'bays29.tsp', 'rl1323.tsp', 'pcb442.tsp', 'pr439.tsp', 'eil76.tsp', 'gr21.tsp']\n"
     ]
    }
   ],
   "source": []
  }
 ],
 "metadata": {
  "kernelspec": {
   "display_name": "Python 3.8.5 64-bit",
   "language": "python",
   "name": "python385jvsc74a57bd031f2aee4e71d21fbe5cf8b01ff0e069b9275f58929596ceb00d14d90e3e16cd6"
  },
  "language_info": {
   "codemirror_mode": {
    "name": "ipython",
    "version": 3
   },
   "file_extension": ".py",
   "mimetype": "text/x-python",
   "name": "python",
   "nbconvert_exporter": "python",
   "pygments_lexer": "ipython3",
   "version": "3.8.5"
  },
  "metadata": {
   "interpreter": {
    "hash": "31f2aee4e71d21fbe5cf8b01ff0e069b9275f58929596ceb00d14d90e3e16cd6"
   }
  }
 },
 "nbformat": 4,
 "nbformat_minor": 4
}

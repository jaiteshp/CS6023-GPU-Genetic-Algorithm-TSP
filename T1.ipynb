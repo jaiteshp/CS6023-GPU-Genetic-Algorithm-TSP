{
 "cells": [
  {
   "cell_type": "code",
   "execution_count": 33,
   "metadata": {},
   "outputs": [],
   "source": [
    "import os\n",
    "import subprocess"
   ]
  },
  {
   "cell_type": "code",
   "execution_count": 50,
   "metadata": {},
   "outputs": [],
   "source": [
    "def callGpuCode(filename):\n",
    "    #running make GA_gpu\n",
    "    compProc = subprocess.run([\"./ga_gpu\", filename], capture_output=True)\n",
    "    print(compProc)\n",
    "    return compProc\n",
    "    \n",
    "    #running GA_gpu\n",
    "#     process = subprocess.Popen(\"\")"
   ]
  },
  {
   "cell_type": "code",
   "execution_count": 52,
   "metadata": {},
   "outputs": [
    {
     "name": "stdout",
     "output_type": "stream",
     "text": [
      "CompletedProcess(args=['./ga_gpu', 'gr17.tsp'], returncode=0, stdout=b'-------------- 0 --------------\\nSolution: 2166.000000\\n-------------- 1 --------------\\nSolution: 2090.000000\\n-------------- 2 --------------\\nSolution: 2085.000000\\n-------------- 3 --------------\\nSolution: 2085.000000\\n-------------- 4 --------------\\nSolution: 2085.000000\\n-------------- 5 --------------\\nSolution: 2085.000000\\n\\nGA converged in 6th generation with best Solution: 2085\\n\\nExecution time (GPU): 1.00556 seconds\\n\\nNumber of cities: \\t17\\nPopulation size: \\t10000\\nNumber of mutations: \\t50\\nMax no of generations: \\t10000\\n', stderr=b'')\n"
     ]
    }
   ],
   "source": [
    "compProc = callGpuCode(\"gr17.tsp\")"
   ]
  },
  {
   "cell_type": "code",
   "execution_count": 55,
   "metadata": {},
   "outputs": [
    {
     "name": "stdout",
     "output_type": "stream",
     "text": [
      "-------------- 0 --------------\n",
      "Solution: 2245.000000\n",
      "-------------- 1 --------------\n",
      "Solution: 2090.000000\n",
      "-------------- 2 --------------\n",
      "Solution: 2090.000000\n",
      "-------------- 3 --------------\n",
      "Solution: 2090.000000\n",
      "-------------- 4 --------------\n",
      "Solution: 2090.000000\n",
      "-------------- 5 --------------\n",
      "Solution: 2090.000000\n",
      "-------------- 6 --------------\n",
      "Solution: 2090.000000\n",
      "-------------- 7 --------------\n",
      "Solution: 2090.000000\n",
      "-------------- 8 --------------\n",
      "Solution: 2090.000000\n",
      "-------------- 9 --------------\n",
      "Solution: 2090.000000\n",
      "-------------- 10 --------------\n",
      "Solution: 2090.000000\n",
      "\n",
      "GA converged in 11th generation with best Solution: 2090\n",
      "\n",
      "Execution time (GPU): 1.80271 seconds\n",
      "\n",
      "Number of cities: \t17\n",
      "Population size: \t10000\n",
      "Number of mutations: \t50\n",
      "Max no of generations: \t10000\n",
      "\n",
      "654\n",
      "1.80271 seconds\n",
      "\n",
      "Number of cities: \t17\n",
      "Population size: \t10000\n",
      "Number of mutations: \t50\n",
      "Max no of generations: \t10000\n",
      "\n"
     ]
    }
   ],
   "source": [
    "output = (compProcMake.stdout).decode(\"utf-8\")\n",
    "print(output)\n",
    "idx = output.find(\"Execution time (GPU): \")\n",
    "print(idx)\n",
    "print(output[idx+22::])"
   ]
  },
  {
   "cell_type": "code",
   "execution_count": null,
   "metadata": {},
   "outputs": [],
   "source": []
  },
  {
   "cell_type": "code",
   "execution_count": null,
   "metadata": {},
   "outputs": [],
   "source": []
  }
 ],
 "metadata": {
  "kernelspec": {
   "display_name": "Python 3.8.5 64-bit",
   "language": "python",
   "name": "python385jvsc74a57bd031f2aee4e71d21fbe5cf8b01ff0e069b9275f58929596ceb00d14d90e3e16cd6"
  },
  "language_info": {
   "codemirror_mode": {
    "name": "ipython",
    "version": 3
   },
   "file_extension": ".py",
   "mimetype": "text/x-python",
   "name": "python",
   "nbconvert_exporter": "python",
   "pygments_lexer": "ipython3",
   "version": "3.8.5"
  },
  "metadata": {
   "interpreter": {
    "hash": "31f2aee4e71d21fbe5cf8b01ff0e069b9275f58929596ceb00d14d90e3e16cd6"
   }
  }
 },
 "nbformat": 4,
 "nbformat_minor": 4
}
